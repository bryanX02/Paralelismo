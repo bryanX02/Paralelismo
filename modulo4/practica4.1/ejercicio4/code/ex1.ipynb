{
 "cells": [
  {
   "cell_type": "code",
   "execution_count": null,
   "id": "11d255bc",
   "metadata": {},
   "outputs": [
    {
     "name": "stderr",
     "output_type": "stream",
     "text": [
      "2025-05-21 12:11:46.579295: I tensorflow/core/util/port.cc:153] oneDNN custom operations are on. You may see slightly different numerical results due to floating-point round-off errors from different computation orders. To turn them off, set the environment variable `TF_ENABLE_ONEDNN_OPTS=0`.\n",
      "2025-05-21 12:11:46.874623: E external/local_xla/xla/stream_executor/cuda/cuda_fft.cc:467] Unable to register cuFFT factory: Attempting to register factory for plugin cuFFT when one has already been registered\n",
      "WARNING: All log messages before absl::InitializeLog() is called are written to STDERR\n",
      "E0000 00:00:1747829506.992233   14451 cuda_dnn.cc:8579] Unable to register cuDNN factory: Attempting to register factory for plugin cuDNN when one has already been registered\n",
      "E0000 00:00:1747829507.024078   14451 cuda_blas.cc:1407] Unable to register cuBLAS factory: Attempting to register factory for plugin cuBLAS when one has already been registered\n",
      "W0000 00:00:1747829507.281022   14451 computation_placer.cc:177] computation placer already registered. Please check linkage and avoid linking the same target more than once.\n",
      "W0000 00:00:1747829507.281064   14451 computation_placer.cc:177] computation placer already registered. Please check linkage and avoid linking the same target more than once.\n",
      "W0000 00:00:1747829507.281066   14451 computation_placer.cc:177] computation placer already registered. Please check linkage and avoid linking the same target more than once.\n",
      "W0000 00:00:1747829507.281068   14451 computation_placer.cc:177] computation placer already registered. Please check linkage and avoid linking the same target more than once.\n",
      "2025-05-21 12:11:47.307862: I tensorflow/core/platform/cpu_feature_guard.cc:210] This TensorFlow binary is optimized to use available CPU instructions in performance-critical operations.\n",
      "To enable the following instructions: AVX2 AVX512F AVX512_VNNI FMA, in other operations, rebuild TensorFlow with the appropriate compiler flags.\n"
     ]
    },
    {
     "name": "stdout",
     "output_type": "stream",
     "text": [
      "Cargando dataset 'Maysee/tiny-imagenet'...\n",
      "Dataset cargado.\n",
      "DatasetDict({\n",
      "    train: Dataset({\n",
      "        features: ['image', 'label'],\n",
      "        num_rows: 100000\n",
      "    })\n",
      "    valid: Dataset({\n",
      "        features: ['image', 'label'],\n",
      "        num_rows: 10000\n",
      "    })\n",
      "})\n",
      "\n",
      "Mostrando imagen de ejemplo (índice 2300 del conjunto 'train'):\n"
     ]
    },
    {
     "data": {
      "image/jpeg": "[encoded data removed]",
      "image/png": "[encoded data removed]",
      "text/plain": [
       "<PIL.JpegImagePlugin.JpegImageFile image mode=RGB size=64x64>"
      ]
     },
     "execution_count": 3,
     "metadata": {},
     "output_type": "execute_result"
    }
   ],
   "source": [
    "# Importaciones necesarias\n",
    "from datasets import load_dataset\n",
    "from transformers import pipeline\n",
    "import ray\n",
    "import time \n",
    "# Carga del dataset\n",
    "print(\"Cargando dataset 'Maysee/tiny-imagenet'...\")\n",
    "tiny_imagenet = load_dataset('Maysee/tiny-imagenet')\n",
    "print(\"Dataset cargado.\")\n",
    "print(tiny_imagenet)\n",
    "\n",
    "# Accedermosa una imagen de ejemplo\n",
    "img_example = tiny_imagenet['train'][2002]['image']\n",
    "print(\"\\nMostrando imagen de ejemplo (índice 2002 del conjunto 'train'):\")\n",
    "img_example # En Jupyter, esto mostrará la imagen"
   ]
  },
  {
   "cell_type": "code",
   "execution_count": null,
   "id": "5abb53f2",
   "metadata": {},
   "outputs": [
    {
     "name": "stderr",
     "output_type": "stream",
     "text": [
      "No model was supplied, defaulted to google/vit-base-patch16-224 and revision 3f49326 (https://huggingface.co/google/vit-base-patch16-224).\n",
      "Using a pipeline without specifying a model name and revision in production is not recommended.\n"
     ]
    },
    {
     "name": "stdout",
     "output_type": "stream",
     "text": [
      "Cargando el clasificador de imágenes 'image-classification'...\n"
     ]
    },
    {
     "name": "stderr",
     "output_type": "stream",
     "text": [
      "Xet Storage is enabled for this repo, but the 'hf_xet' package is not installed. Falling back to regular HTTP download. For better performance, install the package with: `pip install huggingface_hub[hf_xet]` or `pip install hf_xet`\n"
     ]
    },
    {
     "data": {
      "application/vnd.jupyter.widget-view+json": {
       "model_id": "9c619771a9c6412880a0179eedccaa7f",
       "version_major": 2,
       "version_minor": 0
      },
      "text/plain": [
       "model.safetensors:   0%|          | 0.00/346M [00:00<?, ?B/s]"
      ]
     },
     "metadata": {},
     "output_type": "display_data"
    },
    {
     "data": {
      "application/vnd.jupyter.widget-view+json": {
       "model_id": "ea15aae5898a4b6aaa605d7a09b1ea55",
       "version_major": 2,
       "version_minor": 0
      },
      "text/plain": [
       "preprocessor_config.json:   0%|          | 0.00/160 [00:00<?, ?B/s]"
      ]
     },
     "metadata": {},
     "output_type": "display_data"
    },
    {
     "name": "stderr",
     "output_type": "stream",
     "text": [
      "Fast image processor class <class 'transformers.models.vit.image_processing_vit_fast.ViTImageProcessorFast'> is available for this model. Using slow image processor class. To use the fast image processor class set `use_fast=True`.\n",
      "Device set to use cpu\n"
     ]
    },
    {
     "name": "stdout",
     "output_type": "stream",
     "text": [
      "Clasificador cargado.\n",
      "\n",
      "Clasificando la imagen de ejemplo:\n",
      "[{'label': 'American alligator, Alligator mississipiensis', 'score': 0.9436621069908142}, {'label': 'African crocodile, Nile crocodile, Crocodylus niloticus', 'score': 0.025410493835806847}, {'label': 'platypus, duckbill, duckbilled platypus, duck-billed platypus, Ornithorhynchus anatinus', 'score': 0.001243826700374484}, {'label': 'alligator lizard', 'score': 0.0007204443099908531}, {'label': 'frilled lizard, Chlamydosaurus kingi', 'score': 0.0007057989132590592}]\n",
      "\n",
      "Mejor clasificación para la imagen de ejemplo: Clase='American alligator, Alligator mississipiensis', Puntuación=0.9437\n"
     ]
    }
   ],
   "source": [
    "# Cargamos el modelo de clasificación de imágenes\n",
    "print(\"Cargando el clasificador de imágenes 'image-classification'...\")\n",
    "clf = pipeline(\"image-classification\", framework=\"pt\") # \"pt\" es para PyTorch\n",
    "print(\"Clasificador cargado.\")\n",
    "\n",
    "print(\"\\nClasificando la imagen de ejemplo:\")\n",
    "classification_result = clf(img_example)\n",
    "print(classification_result)\n",
    "\n",
    "# Función auxiliar para obtener la mejor clase y puntuación\n",
    "def get_best_class_and_score(classifier, pil_image):\n",
    "    \"\"\"\n",
    "    Clasifica una imagen y retorna la tupla (clase, puntuación) de la mejor predicción.\n",
    "    \"\"\"\n",
    "    predictions = classifier(pil_image)\n",
    "    if predictions: # Asegurarse de que hay predicciones\n",
    "        best_prediction = predictions[0] # La primera es la de mayor puntuación\n",
    "        return (best_prediction['label'], best_prediction['score'])\n",
    "    return (None, 0.0) # En caso de no haber predicciones\n",
    "\n",
    "# Probamos la función auxiliar\n",
    "best_class, best_score = get_best_class_and_score(clf, img_example)\n",
    "print(f\"\\nMejor clasificación para la imagen de ejemplo: Clase='{best_class}', Puntuación={best_score:.4f}\")"
   ]
  },
  {
   "cell_type": "markdown",
   "id": "fd5efead",
   "metadata": {},
   "source": []
  }
 ],
 "metadata": {
  "kernelspec": {
   "display_name": "Python 3",
   "language": "python",
   "name": "python3"
  },
  "language_info": {
   "codemirror_mode": {
    "name": "ipython",
    "version": 3
   },
   "file_extension": ".py",
   "mimetype": "text/x-python",
   "name": "python",
   "nbconvert_exporter": "python",
   "pygments_lexer": "ipython3",
   "version": "3.11.2"
  }
 },
 "nbformat": 4,
 "nbformat_minor": 5
}
